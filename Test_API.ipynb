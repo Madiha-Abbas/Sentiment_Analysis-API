{
  "nbformat": 4,
  "nbformat_minor": 0,
  "metadata": {
    "colab": {
      "provenance": []
    },
    "kernelspec": {
      "name": "python3",
      "display_name": "Python 3"
    },
    "language_info": {
      "name": "python"
    }
  },
  "cells": [
    {
      "cell_type": "code",
      "execution_count": null,
      "metadata": {
        "id": "H4x3BQ44khJm"
      },
      "outputs": [],
      "source": [
        "from fastapi.testclient import TestClient\n",
        "from app.main import app\n",
        "\n",
        "client = TestClient(app)\n",
        "\n",
        "def test_positive_sentiment():\n",
        "    response = client.post(\"/sentiment\", json={\"text\": \"I love this product!\"})\n",
        "    assert response.status_code == 200\n",
        "    assert response.json() == {\"sentiment\": \"positive\"}\n",
        "def test_negative_sentiment():\n",
        "    response = client.post(\"/sentiment\", json={\"text\": \"This is the worst product I have ever used.\"})\n",
        "    assert response.status_code == 200\n",
        "    assert response.json() == {\"sentiment\": \"negative\"}\n",
        "\n",
        "def test_neutral_sentiment():\n",
        "    response = client.post(\"/sentiment\", json={\"text\": \"This product is okay.\"})\n",
        "    assert response.status_code == 200\n",
        "    assert response.json() == {\"sentiment\": \"neutral\"}"
      ]
    }
  ]
}